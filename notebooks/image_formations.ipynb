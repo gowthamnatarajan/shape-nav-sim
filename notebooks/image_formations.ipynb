{
 "cells": [
  {
   "cell_type": "markdown",
   "id": "ecb79118",
   "metadata": {},
   "source": [
    "Read Images"
   ]
  },
  {
   "cell_type": "code",
   "execution_count": null,
   "id": "68f27a5c",
   "metadata": {},
   "outputs": [],
   "source": [
    "import cv2 as cv\n",
    "import matplotlib.pyplot as plt\n",
    "import numpy as np"
   ]
  },
  {
   "cell_type": "code",
   "execution_count": null,
   "id": "f5b823e4",
   "metadata": {},
   "outputs": [],
   "source": [
    "def matlabPlot(img, title='blank'):\n",
    "    h, w = img.shape[:2]\n",
    "    dpi = 100  # screen dots per inch\n",
    "    plt.figure(figsize=(w/dpi, h/dpi), dpi=dpi)\n",
    "    img_rgb = cv.cvtColor(img, cv.COLOR_BGR2RGB)\n",
    "    plt.imshow(img_rgb)\n",
    "    plt.title(title)\n",
    "    plt.axis(\"off\")\n",
    "    plt.subplots_adjust(left=0, right=1, top=1, bottom=0)\n",
    "    plt.show()"
   ]
  },
  {
   "cell_type": "code",
   "execution_count": null,
   "id": "a81d4ff2",
   "metadata": {},
   "outputs": [],
   "source": [
    "img = cv.imread('../media/images/baboon.jpg')\n",
    "matlabPlot(img)\n",
    "print(img.shape)"
   ]
  },
  {
   "cell_type": "markdown",
   "id": "9456871c",
   "metadata": {},
   "source": [
    "Draw Images"
   ]
  },
  {
   "cell_type": "code",
   "execution_count": null,
   "id": "eb28b856",
   "metadata": {},
   "outputs": [],
   "source": [
    "blank = np.zeros((500, 500, 3), dtype='uint8')\n",
    "blank[:] = 0,0,255\n",
    "matlabPlot(blank)"
   ]
  },
  {
   "cell_type": "code",
   "execution_count": null,
   "id": "8bb05a7a",
   "metadata": {},
   "outputs": [],
   "source": [
    "blank = np.zeros((500, 500, 3), dtype='uint8')\n",
    "blank[200:300, 300:400] = 0,0,255\n",
    "matlabPlot(blank)"
   ]
  },
  {
   "cell_type": "code",
   "execution_count": null,
   "id": "4d631648",
   "metadata": {},
   "outputs": [],
   "source": [
    "# Draw a Rectangle\n",
    "blank = np.zeros((600, 500, 3), dtype='uint8') #height, width\n",
    "cv.rectangle(blank, (0,0), (blank.shape[1] // 2,blank.shape[0]//2), (0,255,0), thickness=cv.FILLED) #width, height\n",
    "matlabPlot(blank, 'rectangle')"
   ]
  },
  {
   "cell_type": "code",
   "execution_count": null,
   "id": "5bca135e",
   "metadata": {},
   "outputs": [],
   "source": [
    "# Draw a Circle\n",
    "cv.circle(blank, (blank.shape[1] // 2,blank.shape[0]//2), 50, (0,0,255),2)\n",
    "matlabPlot(blank, 'rectangle & circle')\n"
   ]
  },
  {
   "cell_type": "code",
   "execution_count": null,
   "id": "a0e18c89",
   "metadata": {},
   "outputs": [],
   "source": [
    "# Draw a line\n",
    "cv.line(blank, (100,250), (300,400), (255,255,255), 5)\n",
    "matlabPlot(blank)"
   ]
  },
  {
   "cell_type": "code",
   "execution_count": null,
   "id": "62d2cae9",
   "metadata": {},
   "outputs": [],
   "source": [
    "# Write text\n",
    "blank = np.zeros((600, 500, 3), dtype='uint8') #height, width\n",
    "cv.putText(blank, 'Hello', (200, 300), cv.FONT_HERSHEY_DUPLEX, 1.5, (255,255,0), 1)\n",
    "matlabPlot(blank)"
   ]
  },
  {
   "cell_type": "code",
   "execution_count": null,
   "id": "436f6e52",
   "metadata": {},
   "outputs": [],
   "source": [
    "# Color Space\n",
    "img = cv.imread('../media/images/baboon.jpg')\n",
    "img_gray = cv.cvtColor(img, cv.COLOR_BGR2GRAY)\n",
    "matlabPlot(img_gray, 'grayscale')\n",
    "print(img_gray.shape)\n",
    "img_hsv = cv.cvtColor(img, cv.COLOR_BGR2HSV)\n",
    "matlabPlot(img_hsv, 'hsv')\n",
    "print(img_hsv.shape)"
   ]
  },
  {
   "cell_type": "code",
   "execution_count": null,
   "id": "c740f02a",
   "metadata": {},
   "outputs": [],
   "source": [
    "# Blur\n",
    "img = cv.imread('../media/images/baboon.jpg')\n",
    "img_blur = cv.GaussianBlur(img, (9,9), cv.BORDER_DEFAULT)\n",
    "matlabPlot(img_blur, 'blur')"
   ]
  },
  {
   "cell_type": "code",
   "execution_count": null,
   "id": "8e02a882",
   "metadata": {},
   "outputs": [],
   "source": [
    "# Histogram\n",
    "img = cv.imread('../media/images/baboon.jpg')\n",
    "img_rgb = cv.cvtColor(img, cv.COLOR_BGR2RGB)\n",
    "\n",
    "colors = {'r', 'g', 'b'}\n",
    "for i, col in enumerate(colors):\n",
    "    hist = cv.calcHist([img_rgb], [i], None, [256], [0, 256])\n",
    "    plt.plot(hist, color=col)\n",
    "\n"
   ]
  },
  {
   "cell_type": "code",
   "execution_count": null,
   "id": "24a2f6de",
   "metadata": {},
   "outputs": [],
   "source": [
    "# Resize\n",
    "img = cv.imread('../media/images/baboon.jpg')\n",
    "resized = cv.resize(img, (200, 200))\n",
    "matlabPlot(resized, 'resize')"
   ]
  },
  {
   "cell_type": "code",
   "execution_count": null,
   "id": "15a1da24",
   "metadata": {},
   "outputs": [],
   "source": [
    "# Crop\n",
    "cropped = img[50:200, 200:400]\n",
    "matlabPlot(cropped, 'crop')"
   ]
  },
  {
   "cell_type": "code",
   "execution_count": null,
   "id": "82756897",
   "metadata": {},
   "outputs": [],
   "source": [
    "# translate\n",
    "def translate(img, x, y): # - for left, up. + for right and down\n",
    "    transMat = np.float32([[1,0,x], [0,1,y]])\n",
    "    dims = (img.shape[1], img.shape[0])\n",
    "    return cv.warpAffine(img, transMat, dims)\n",
    "\n",
    "translated = translate(img, -100, 100)\n",
    "matlabPlot(translated, 'translate')"
   ]
  },
  {
   "cell_type": "code",
   "execution_count": null,
   "id": "0991fad0",
   "metadata": {},
   "outputs": [],
   "source": [
    "# rotate\n",
    "def rotate(img, angle, rotPoint=None):\n",
    "    (height, width) = img.shape[:2]\n",
    "\n",
    "    if rotPoint is None:\n",
    "        rotPoint = (width//2, height//2)\n",
    "    \n",
    "    rotMat = cv.getRotationMatrix2D(rotPoint, angle, 1.0)\n",
    "    dims = (width, height)\n",
    "\n",
    "    return cv.warpAffine(img, rotMat, dims)\n",
    "\n",
    "rotated = rotate(img, -45) # minus for clockwise\n",
    "matlabPlot(rotated, 'rotate')\n",
    "\n",
    "rotated2 = rotate(rotated, -45) #Pixels lost\n",
    "matlabPlot(rotated2, 'rotate2')\n",
    "\n",
    "rotate_large = rotate(img, -90) # no pixels lost\n",
    "matlabPlot(rotate_large, 'rotate large')"
   ]
  },
  {
   "cell_type": "code",
   "execution_count": null,
   "id": "4a5128e7",
   "metadata": {},
   "outputs": [],
   "source": [
    "# flip\n",
    "flip = cv.flip(img, -1)\n",
    "matlabPlot(flip, 'flip')"
   ]
  }
 ],
 "metadata": {
  "kernelspec": {
   "display_name": "Python (shape-detection-robot-navigation)",
   "language": "python",
   "name": "shape-nav-sim"
  },
  "language_info": {
   "codemirror_mode": {
    "name": "ipython",
    "version": 3
   },
   "file_extension": ".py",
   "mimetype": "text/x-python",
   "name": "python",
   "nbconvert_exporter": "python",
   "pygments_lexer": "ipython3",
   "version": "3.12.3"
  }
 },
 "nbformat": 4,
 "nbformat_minor": 5
}
