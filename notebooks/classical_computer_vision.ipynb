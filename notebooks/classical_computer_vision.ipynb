{
 "cells": [
  {
   "cell_type": "code",
   "execution_count": null,
   "id": "02c9dbf1",
   "metadata": {},
   "outputs": [],
   "source": [
    "import cv2 as cv\n",
    "import matplotlib.pyplot as plt\n",
    "import numpy as np"
   ]
  },
  {
   "cell_type": "code",
   "execution_count": null,
   "id": "777cac11",
   "metadata": {},
   "outputs": [],
   "source": [
    "#Convert image to RGB from BGR to plot in matplot\n",
    "def matlabPlot(img, title='blank'):\n",
    "    h, w = img.shape[:2]\n",
    "    dpi = 100  # screen dots per inch\n",
    "    plt.figure(figsize=(w/dpi, h/dpi), dpi=dpi)\n",
    "    img_rgb = cv.cvtColor(img, cv.COLOR_BGR2RGB)\n",
    "    plt.imshow(img_rgb)\n",
    "    plt.title(title)\n",
    "    plt.axis(\"off\")\n",
    "    plt.subplots_adjust(left=0, right=1, top=1, bottom=0)\n",
    "    plt.show()"
   ]
  },
  {
   "cell_type": "markdown",
   "id": "d0def003",
   "metadata": {},
   "source": [
    "Edge detection"
   ]
  },
  {
   "cell_type": "code",
   "execution_count": null,
   "id": "04f3f33d",
   "metadata": {},
   "outputs": [],
   "source": [
    "# Canny\n",
    "img = cv.imread('../media/images/baboon.jpg')\n",
    "canny = cv.Canny(img, 125, 175)\n",
    "matlabPlot(canny, 'edges')\n",
    "img_blur = cv.GaussianBlur(img, (7,7), cv.BORDER_DEFAULT)\n",
    "canny2 = cv.Canny(img_blur, 125, 175) #blur reduces edges\n",
    "matlabPlot(canny2, 'blur edges')\n"
   ]
  },
  {
   "cell_type": "markdown",
   "id": "9ad4316f",
   "metadata": {},
   "source": [
    "Morphological Operations"
   ]
  },
  {
   "cell_type": "code",
   "execution_count": null,
   "id": "71e6aa5a",
   "metadata": {},
   "outputs": [],
   "source": [
    "# Dialation and Erosion, closing\n",
    "dialated = cv.dilate(canny2, (7,7), iterations=3)\n",
    "matlabPlot(dialated, 'dialated')\n",
    "\n",
    "eroded = cv.erode(dialated, (7,7), iterations=3)\n",
    "matlabPlot(eroded, 'eroded')"
   ]
  },
  {
   "cell_type": "code",
   "execution_count": null,
   "id": "d806e810",
   "metadata": {},
   "outputs": [],
   "source": [
    "# Dialation and Erosion, opening\n",
    "eroded = cv.erode(canny2, (3,3), iterations=2)\n",
    "matlabPlot(eroded, 'eroded')\n",
    "\n",
    "dialated = cv.dilate(eroded, (3,3), iterations=2)\n",
    "matlabPlot(dialated, 'dialated')"
   ]
  },
  {
   "cell_type": "markdown",
   "id": "9359f187",
   "metadata": {},
   "source": [
    "Contour Detection"
   ]
  },
  {
   "cell_type": "code",
   "execution_count": null,
   "id": "0063c258",
   "metadata": {},
   "outputs": [],
   "source": [
    "img = cv.imread('../media/images/butterfly.jpg')\n",
    "matlabPlot(img, 'original')\n",
    "gray = cv.cvtColor(img, cv.COLOR_BGR2GRAY)\n",
    "matlabPlot(gray, 'gray')\n",
    "blur = cv.GaussianBlur(gray, (5,5), cv.BORDER_DEFAULT)\n",
    "matlabPlot(blur, 'blur')\n",
    "canny = cv.Canny(blur, 125, 175)\n",
    "matlabPlot(canny, 'canny')\n",
    "contours, hierarchies = cv.findContours(canny, cv.RETR_LIST, cv.CHAIN_APPROX_SIMPLE)\n",
    "print(f'{len(contours)} contours')\n",
    "ret, thresh = cv.threshold(gray, 125, 255, cv.THRESH_BINARY)\n",
    "matlabPlot(thresh, 'thresh')\n",
    "\n",
    "contours2, hierarchies2 = cv.findContours(thresh, cv.RETR_LIST, cv.CHAIN_APPROX_SIMPLE)\n",
    "print(f'{len(contours)} contours 2')\n",
    "\n",
    "blank = np.zeros(img.shape, dtype='uint8')\n",
    "\n",
    "cv.drawContours(blank, contours, -1, (0,0,255), 1)\n",
    "matlabPlot(blank, 'contours')\n",
    "\n",
    "cv.drawContours(blank, contours2, -1, (0,0,255), 1)\n",
    "matlabPlot(blank, 'contours 2')\n"
   ]
  },
  {
   "cell_type": "code",
   "execution_count": null,
   "id": "97b1b7a9",
   "metadata": {},
   "outputs": [],
   "source": []
  }
 ],
 "metadata": {
  "kernelspec": {
   "display_name": "Python (shape-detection-robot-navigation)",
   "language": "python",
   "name": "shape-nav-sim"
  },
  "language_info": {
   "codemirror_mode": {
    "name": "ipython",
    "version": 3
   },
   "file_extension": ".py",
   "mimetype": "text/x-python",
   "name": "python",
   "nbconvert_exporter": "python",
   "pygments_lexer": "ipython3",
   "version": "3.12.3"
  }
 },
 "nbformat": 4,
 "nbformat_minor": 5
}
